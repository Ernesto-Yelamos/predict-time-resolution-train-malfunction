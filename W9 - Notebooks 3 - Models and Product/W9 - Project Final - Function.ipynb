{
 "cells": [
  {
   "cell_type": "markdown",
   "metadata": {},
   "source": [
    "# Define function to give predictions of input data"
   ]
  },
  {
   "cell_type": "markdown",
   "metadata": {},
   "source": [
    "### 1. Import libraries"
   ]
  },
  {
   "cell_type": "code",
   "execution_count": 11,
   "metadata": {},
   "outputs": [],
   "source": [
    "import pandas as pd\n",
    "import pickle"
   ]
  },
  {
   "cell_type": "markdown",
   "metadata": {},
   "source": [
    "### 2. Store an example of user input in a list to check the functions"
   ]
  },
  {
   "cell_type": "code",
   "execution_count": 12,
   "metadata": {},
   "outputs": [],
   "source": [
    "my_list = ['Amsterdam Centraal', 'March', 'Wednesday', 'nonholiday', 'peak', 'vandalism', 'high', 'medium','freezing']"
   ]
  },
  {
   "cell_type": "code",
   "execution_count": 19,
   "metadata": {},
   "outputs": [],
   "source": [
    "my_list2 = ['Utrecht Centraal', 'June', 'Friday', 'nonholiday', 'off-peak', 'person hit by a train', 'low', 'low','hot']"
   ]
  },
  {
   "cell_type": "markdown",
   "metadata": {},
   "source": [
    "### 3. Random Forest Classifier (duration grouped into 30 minute intervals)"
   ]
  },
  {
   "cell_type": "code",
   "execution_count": 13,
   "metadata": {},
   "outputs": [],
   "source": [
    "def run_model_30(mylist):\n",
    "    my_dict = {'a':'0-30 minutes', 'b':'30-60 minutes', 'c':'60-90 minutes', 'd':'90-120 minutes', 'e':'120-150 minutes', 'f':'150-180 minutes', 'g':'180-210 minutes', 'h':'210-240 minutes', 'i':'more than 4 hours', 'j':'more than 4 hours'}\n",
    "    new_data = mylist\n",
    "    with open('encoder_30.pkl', 'rb') as f:\n",
    "        enc = pickle.load(f)\n",
    "    encoded = enc.transform([new_data]) \n",
    "    pkl_filename = \"W9-project-model-class-30-ohe.pkl\"\n",
    "    # Load from file\n",
    "    with open(pkl_filename, 'rb') as file:\n",
    "        pickle_model = pickle.load(file)\n",
    "    prediction = pickle_model.predict(encoded)\n",
    "    pred = list(str(prediction))[2]\n",
    "    print('You can expect to wait :', my_dict[pred])\n",
    "    #return pred"
   ]
  },
  {
   "cell_type": "code",
   "execution_count": 14,
   "metadata": {},
   "outputs": [
    {
     "name": "stdout",
     "output_type": "stream",
     "text": [
      "You can expect to wait : 30-60 minutes\n"
     ]
    }
   ],
   "source": [
    "run_model_30(my_list)"
   ]
  },
  {
   "cell_type": "code",
   "execution_count": 20,
   "metadata": {},
   "outputs": [
    {
     "name": "stdout",
     "output_type": "stream",
     "text": [
      "You can expect to wait : 180-210 minutes\n"
     ]
    }
   ],
   "source": [
    "run_model_30(my_list2)"
   ]
  },
  {
   "cell_type": "markdown",
   "metadata": {},
   "source": [
    "### 4. Random Forest Classifier (duration grouped into 15 minute intervals)"
   ]
  },
  {
   "cell_type": "code",
   "execution_count": 21,
   "metadata": {},
   "outputs": [],
   "source": [
    "def run_model_15(mylist):\n",
    "    my_dict = {'a':'0-15 minutes', 'b':'15-30 minutes', 'c':'30-45 minutes', 'd':'45-60 minutes', 'e':'60-75 minutes', 'f':'75-90 minutes', 'g':'90-105 minutes', 'h':'105-120 minutes', 'i':'120-135 minutes', 'j':'135-150 minutes','k':'150-165 minutes', 'l':'165-180 minutes', 'm':'180-195 minutes', 'n':'195-210 minutes', 'o':'210-225 minutes', 'p':'225-240 minutes', 'q':'240-255 minutes', 'r':'255-270 minutes', 's':'270-285 minutes','t':'285-300 minutes'}\n",
    "    new_data = mylist\n",
    "    with open('encoder.pkl', 'rb') as f:\n",
    "        enc = pickle.load(f)\n",
    "    encoded = enc.transform([new_data]) \n",
    "    pkl_filename = \"W9-project-model-class-15-ohe.pkl\"\n",
    "    # Load from file\n",
    "    with open(pkl_filename, 'rb') as file:\n",
    "        pickle_model = pickle.load(file)\n",
    "    prediction = pickle_model.predict(encoded)\n",
    "    pred = list(str(prediction))[2]\n",
    "    #print('You can expect to wait :', my_dict[pred])\n",
    "    return print('You can expect to wait :', my_dict[pred])"
   ]
  },
  {
   "cell_type": "code",
   "execution_count": 22,
   "metadata": {},
   "outputs": [
    {
     "name": "stdout",
     "output_type": "stream",
     "text": [
      "You can expect to wait : 30-45 minutes\n"
     ]
    }
   ],
   "source": [
    "run_model_15(my_list)"
   ]
  },
  {
   "cell_type": "code",
   "execution_count": 23,
   "metadata": {},
   "outputs": [
    {
     "name": "stdout",
     "output_type": "stream",
     "text": [
      "You can expect to wait : 180-195 minutes\n"
     ]
    }
   ],
   "source": [
    "run_model_15(my_list2)"
   ]
  },
  {
   "cell_type": "code",
   "execution_count": null,
   "metadata": {},
   "outputs": [],
   "source": []
  }
 ],
 "metadata": {
  "kernelspec": {
   "display_name": "Python 3",
   "language": "python",
   "name": "python3"
  },
  "language_info": {
   "codemirror_mode": {
    "name": "ipython",
    "version": 3
   },
   "file_extension": ".py",
   "mimetype": "text/x-python",
   "name": "python",
   "nbconvert_exporter": "python",
   "pygments_lexer": "ipython3",
   "version": "3.8.3"
  }
 },
 "nbformat": 4,
 "nbformat_minor": 4
}
